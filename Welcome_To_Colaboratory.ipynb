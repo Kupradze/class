{
  "cells": [
    {
      "cell_type": "markdown",
      "metadata": {
        "id": "view-in-github",
        "colab_type": "text"
      },
      "source": [
        "<a href=\"https://colab.research.google.com/github/Kupradze/class/blob/main/Welcome_To_Colaboratory.ipynb\" target=\"_parent\"><img src=\"https://colab.research.google.com/assets/colab-badge.svg\" alt=\"Open In Colab\"/></a>"
      ]
    },
    {
      "cell_type": "code",
      "source": [
        "my_list = []\n",
        "\n",
        "\n",
        "for i in range(33):\n",
        "    my_list.append(i)\n",
        "\n",
        "\n",
        "for i in range(2, 33, 3):\n",
        "    print(my_list[i])\n",
        "\n",
        "\n",
        "num_to_check = int(input(\"Enter a number to check: \"))\n",
        "\n",
        " \n",
        "for i in range(len(my_list)):\n",
        "    if my_list[i] == num_to_check:\n",
        "        print(f\"The number {num_to_check} occurs in the list at index {i}.\")\n",
        "        break\n",
        "else:\n",
        "    print(f\"The number {num_to_check} does not occur in the list.\")"
      ],
      "metadata": {
        "id": "MxJ_Dhgz6385",
        "outputId": "119d3e5c-9b83-4764-8499-ce132207f03c",
        "colab": {
          "base_uri": "https://localhost:8080/"
        }
      },
      "execution_count": 3,
      "outputs": [
        {
          "output_type": "stream",
          "name": "stdout",
          "text": [
            "2\n",
            "5\n",
            "8\n",
            "11\n",
            "14\n",
            "17\n",
            "20\n",
            "23\n",
            "26\n",
            "29\n",
            "32\n",
            "Enter a number to check: 5\n",
            "The number 5 occurs in the list at index 5.\n"
          ]
        }
      ]
    }
  ],
  "metadata": {
    "colab": {
      "name": "Welcome To Colaboratory",
      "toc_visible": true,
      "provenance": [],
      "include_colab_link": true
    },
    "kernelspec": {
      "display_name": "Python 3",
      "name": "python3"
    }
  },
  "nbformat": 4,
  "nbformat_minor": 0
}