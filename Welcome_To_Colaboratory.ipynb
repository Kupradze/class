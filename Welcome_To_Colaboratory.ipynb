{
  "cells": [
    {
      "cell_type": "markdown",
      "metadata": {
        "id": "view-in-github",
        "colab_type": "text"
      },
      "source": [
        "<a href=\"https://colab.research.google.com/github/Kupradze/class/blob/main/Welcome_To_Colaboratory.ipynb\" target=\"_parent\"><img src=\"https://colab.research.google.com/assets/colab-badge.svg\" alt=\"Open In Colab\"/></a>"
      ]
    },
    {
      "cell_type": "code",
      "source": [
        "# tell me whether each of these it true of false\n",
        "\n",
        "f=4\n",
        "\n",
        "# true or false\n",
        "f==4\n",
        "\n",
        "f>-4\n",
        "\n",
        "\n",
        "# what will this say?\n",
        "\n",
        "type(f>-4)\n",
        "\n"
      ],
      "metadata": {
        "id": "tncF9PzQysBm"
      },
      "execution_count": null,
      "outputs": []
    },
    {
      "cell_type": "code",
      "source": [
        "f == 4 is true because i've assigned the value 4 to the f, and i am checking if f is equal to 4, it is equal to 4\n",
        "f > -4 is true too because 4 is greater than -4.\n",
        "f == 4 is true.\n",
        "f > -4 is true.\n",
        "type(f > -4) is <class 'bool'>, which indicates the data type of the result is a boolean.\n",
        "bool means 2 possible values (denoted true and false)"
      ],
      "metadata": {
        "id": "Y9Z-gCSvytmV",
        "outputId": "2ed97edb-e615-41f0-ae20-c83847f312fa",
        "colab": {
          "base_uri": "https://localhost:8080/",
          "height": 141
        }
      },
      "execution_count": 20,
      "outputs": [
        {
          "output_type": "error",
          "ename": "SyntaxError",
          "evalue": "ignored",
          "traceback": [
            "\u001b[0;36m  File \u001b[0;32m\"<ipython-input-20-438059611435>\"\u001b[0;36m, line \u001b[0;32m1\u001b[0m\n\u001b[0;31m    f == 4 is true because i've assigned the value 4 to the f, and i am checking if f is equal to 4, it is equal to 4\u001b[0m\n\u001b[0m                            ^\u001b[0m\n\u001b[0;31mSyntaxError\u001b[0m\u001b[0;31m:\u001b[0m unterminated string literal (detected at line 1)\n"
          ]
        }
      ]
    }
  ],
  "metadata": {
    "colab": {
      "name": "Welcome To Colaboratory",
      "toc_visible": true,
      "provenance": [],
      "include_colab_link": true
    },
    "kernelspec": {
      "display_name": "Python 3",
      "name": "python3"
    }
  },
  "nbformat": 4,
  "nbformat_minor": 0
}