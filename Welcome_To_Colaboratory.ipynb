{
  "cells": [
    {
      "cell_type": "markdown",
      "metadata": {
        "id": "view-in-github",
        "colab_type": "text"
      },
      "source": [
        "<a href=\"https://colab.research.google.com/github/Kupradze/class/blob/main/Welcome_To_Colaboratory.ipynb\" target=\"_parent\"><img src=\"https://colab.research.google.com/assets/colab-badge.svg\" alt=\"Open In Colab\"/></a>"
      ]
    },
    {
      "cell_type": "code",
      "source": [
        "def greet():\n",
        "   print(\"Hello\")\n",
        "   print(\"How do you do?\")\n",
        "\n",
        "   greet()\n",
        "   greet()\n",
        "   greet()\n",
        "  "
      ],
      "metadata": {
        "id": "h-ChQXB7ENDE"
      },
      "execution_count": 6,
      "outputs": []
    },
    {
      "cell_type": "code",
      "source": [
        "def mid(text, start, length):\n",
        "    return text[start:start+length]"
      ],
      "metadata": {
        "id": "xD0CQWNoF4LF"
      },
      "execution_count": 7,
      "outputs": []
    },
    {
      "cell_type": "code",
      "source": [
        "text = \"Greetings, World!\"\n",
        "index = text.find(\"World\")\n",
        "print(index)  # Output: 7"
      ],
      "metadata": {
        "id": "N9VlVOM2JEG3",
        "outputId": "2616844a-e842-40cc-b8fd-1ac6d2f67291",
        "colab": {
          "base_uri": "https://localhost:8080/"
        }
      },
      "execution_count": 9,
      "outputs": [
        {
          "output_type": "stream",
          "name": "stdout",
          "text": [
            "11\n"
          ]
        }
      ]
    },
    {
      "cell_type": "code",
      "source": [
        "def left(text, n):\n",
        "    return text[:n]"
      ],
      "metadata": {
        "id": "XtXCsBoLJa3H"
      },
      "execution_count": 10,
      "outputs": []
    },
    {
      "cell_type": "code",
      "source": [
        "def mid(text, start, length):\n",
        "    return text[start:start+length]\n",
        "    like\n",
        "    text = \"Hello, World!\"\n",
        "substring = mid(text, 7, 5)\n",
        "print(substring)  # Output: World"
      ],
      "metadata": {
        "id": "3qz5ZuvKJoG5",
        "outputId": "96da43ff-8f40-4029-f845-1ea4d7f0ba88",
        "colab": {
          "base_uri": "https://localhost:8080/"
        }
      },
      "execution_count": 12,
      "outputs": [
        {
          "output_type": "stream",
          "name": "stdout",
          "text": [
            "gs, W\n"
          ]
        }
      ]
    },
    {
      "cell_type": "code",
      "source": [
        "text = \"Hello, World!\"\n",
        "substring = mid(text, 7, 5)\n",
        "print(substring)  # Output: World"
      ],
      "metadata": {
        "id": "u5ojWJRNJyyX",
        "outputId": "489fa473-5f97-4189-c82e-0a57578b5683",
        "colab": {
          "base_uri": "https://localhost:8080/"
        }
      },
      "execution_count": 13,
      "outputs": [
        {
          "output_type": "stream",
          "name": "stdout",
          "text": [
            "World\n"
          ]
        }
      ]
    },
    {
      "cell_type": "code",
      "source": [
        "text = \"Sup, People!\"\n",
        "substring = left(text, 3)\n",
        "print(substring)  # Output: Sup"
      ],
      "metadata": {
        "id": "hNb2UdO1J463",
        "outputId": "302f66fc-17b1-4076-a41f-d30beec129bd",
        "colab": {
          "base_uri": "https://localhost:8080/"
        }
      },
      "execution_count": 14,
      "outputs": [
        {
          "output_type": "stream",
          "name": "stdout",
          "text": [
            "Sup\n"
          ]
        }
      ]
    },
    {
      "cell_type": "code",
      "source": [],
      "metadata": {
        "id": "N6BKy3H8JHZG"
      },
      "execution_count": null,
      "outputs": []
    },
    {
      "cell_type": "code",
      "source": [],
      "metadata": {
        "id": "8AZ1p-M5FJv9"
      },
      "execution_count": null,
      "outputs": []
    }
  ],
  "metadata": {
    "colab": {
      "name": "Welcome To Colaboratory",
      "toc_visible": true,
      "provenance": [],
      "include_colab_link": true
    },
    "kernelspec": {
      "display_name": "Python 3",
      "name": "python3"
    }
  },
  "nbformat": 4,
  "nbformat_minor": 0
}