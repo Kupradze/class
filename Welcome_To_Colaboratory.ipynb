{
  "cells": [
    {
      "cell_type": "markdown",
      "metadata": {
        "id": "view-in-github",
        "colab_type": "text"
      },
      "source": [
        "<a href=\"https://colab.research.google.com/github/Kupradze/class/blob/main/Welcome_To_Colaboratory.ipynb\" target=\"_parent\"><img src=\"https://colab.research.google.com/assets/colab-badge.svg\" alt=\"Open In Colab\"/></a>"
      ]
    },
    {
      "cell_type": "code",
      "source": [
        "a = 84  # 3 * 4 * 7\n",
        "b = 12  # 3 * 4\n",
        "\n",
        "while a != b:\n",
        "    if a > b:\n",
        "        #is a greater than b? check\n",
        "        # new values for a and b\n",
        "        a = a - b  # Update a by subtracting b\n",
        "        # Set new values for a and b\n",
        "        b = b * 2  # Update b by doubling it\n",
        "        # Calculate c\n",
        "        c = a + b\n",
        "        so if c is a plus b, what will c be\n",
        "        c = 84+12, which equals 96\n",
        "        which also means c=96\n"
      ],
      "metadata": {
        "id": "P2NHayo9z5wd"
      },
      "execution_count": null,
      "outputs": []
    },
    {
      "cell_type": "code",
      "source": [],
      "metadata": {
        "id": "UlKpoA_80HhV"
      },
      "execution_count": null,
      "outputs": []
    }
  ],
  "metadata": {
    "colab": {
      "name": "Welcome To Colaboratory",
      "toc_visible": true,
      "provenance": [],
      "include_colab_link": true
    },
    "kernelspec": {
      "display_name": "Python 3",
      "name": "python3"
    }
  },
  "nbformat": 4,
  "nbformat_minor": 0
}