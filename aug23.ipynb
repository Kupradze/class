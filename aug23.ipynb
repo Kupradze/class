{
  "cells": [
    {
      "cell_type": "markdown",
      "metadata": {
        "id": "view-in-github",
        "colab_type": "text"
      },
      "source": [
        "<a href=\"https://colab.research.google.com/github/Kupradze/class/blob/main/aug23.ipynb\" target=\"_parent\"><img src=\"https://colab.research.google.com/assets/colab-badge.svg\" alt=\"Open In Colab\"/></a>"
      ]
    },
    {
      "cell_type": "code",
      "source": [
        "l=[3,1]\n",
        "\n",
        "   if l[0] > l[3]:\n",
        "     l[0] , l[3] = l[3] , l[0]\n",
        "\n",
        "     print(l)"
      ],
      "metadata": {
        "id": "c8ah1uhK5vKF",
        "outputId": "63e66a51-f9c0-4c02-d581-d1ebda7af94d",
        "colab": {
          "base_uri": "https://localhost:8080/",
          "height": 106
        }
      },
      "execution_count": 5,
      "outputs": [
        {
          "output_type": "error",
          "ename": "IndentationError",
          "evalue": "unexpected indent (<ipython-input-5-17c676ad2789>, line 3)",
          "traceback": [
            "\u001b[0;36m  File \u001b[0;32m\"<ipython-input-5-17c676ad2789>\"\u001b[0;36m, line \u001b[0;32m3\u001b[0m\n\u001b[0;31m    if l[0] > l[3]:\u001b[0m\n\u001b[0m    ^\u001b[0m\n\u001b[0;31mIndentationError\u001b[0m\u001b[0;31m:\u001b[0m unexpected indent\n"
          ]
        }
      ]
    }
  ],
  "metadata": {
    "colab": {
      "name": "Welcome To Colab",
      "toc_visible": true,
      "provenance": [],
      "include_colab_link": true
    },
    "kernelspec": {
      "display_name": "Python 3",
      "name": "python3"
    }
  },
  "nbformat": 4,
  "nbformat_minor": 0
}