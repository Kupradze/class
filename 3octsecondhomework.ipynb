{
  "cells": [
    {
      "cell_type": "markdown",
      "metadata": {
        "id": "view-in-github",
        "colab_type": "text"
      },
      "source": [
        "<a href=\"https://colab.research.google.com/github/Kupradze/class/blob/main/3octsecondhomework.ipynb\" target=\"_parent\"><img src=\"https://colab.research.google.com/assets/colab-badge.svg\" alt=\"Open In Colab\"/></a>"
      ]
    },
    {
      "cell_type": "code",
      "source": [
        "students=[]\n",
        "anns = {\n",
        "        'languages': ['English', 'Russian', 'Ukranian']\n",
        "    }\n",
        "lika= {\n",
        "        'languages': ['Turkish', 'Georgian', 'English']\n",
        "}\n",
        "students.append(anns)\n",
        "students.append(lika)\n",
        "print(students)"
      ],
      "metadata": {
        "colab": {
          "base_uri": "https://localhost:8080/"
        },
        "id": "6WC6ENiMM1n8",
        "outputId": "eb525dc3-b193-423e-ad9b-c838a3a46ff2"
      },
      "execution_count": 16,
      "outputs": [
        {
          "output_type": "stream",
          "name": "stdout",
          "text": [
            "[{'languages': ['English', 'Russian', 'Ukranian']}, {'languages': ['Turkish', 'Georgian', 'English']}]\n"
          ]
        }
      ]
    }
  ],
  "metadata": {
    "colab": {
      "name": "Welcome To Colaboratory",
      "toc_visible": true,
      "provenance": [],
      "include_colab_link": true
    },
    "kernelspec": {
      "display_name": "Python 3",
      "name": "python3"
    }
  },
  "nbformat": 4,
  "nbformat_minor": 0
}