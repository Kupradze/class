{
  "cells": [
    {
      "cell_type": "markdown",
      "metadata": {
        "id": "view-in-github",
        "colab_type": "text"
      },
      "source": [
        "<a href=\"https://colab.research.google.com/github/Kupradze/class/blob/main/June20.ipynb\" target=\"_parent\"><img src=\"https://colab.research.google.com/assets/colab-badge.svg\" alt=\"Open In Colab\"/></a>"
      ]
    },
    {
      "cell_type": "code",
      "source": [
        "import csv\n",
        "import requests\n",
        "\n",
        "class BankAccount:\n",
        "    def __init__(self):\n",
        "        self.balance = 0\n",
        "\n",
        "    def deposit(self, amount):\n",
        "        self.balance += amount\n",
        "\n",
        "    def withdraw(self, amount):\n",
        "        if self.balance >= amount:\n",
        "            self.balance -= amount\n",
        "        else:\n",
        "            print(\"Insufficient funds.\")\n",
        "\n",
        "    def getBalance(self):\n",
        "        return self.balance\n",
        "\n",
        "def read_transactions():\n",
        "    account = BankAccount()\n",
        "\n",
        "\n",
        "    url = \"https://raw.githubusercontent.com/werowe/HypatiaAcademy/master/assignment/transactions.csv\"\n",
        "    response = requests.get(url)\n",
        "    content = response.content.decode('utf-8')\n",
        "\n",
        "\n",
        "    csv_reader = csv.reader(content.splitlines(), delimiter=',')\n",
        "    next(csv_reader)  # Skip the header row\n",
        "    for row in csv_reader:\n",
        "        transaction_type = row[0]\n",
        "        amount = float(row[1])\n",
        "\n",
        "        if transaction_type.lower() == 'deposit':\n",
        "            account.deposit(amount)\n",
        "        elif transaction_type.lower() == 'withdraw':\n",
        "            account.withdraw(amount)\n",
        "\n",
        "    return account\n",
        "\n",
        "\n",
        "account = read_transactions()\n",
        "print(\"Current balance:\", account.getBalance())"
      ],
      "metadata": {
        "colab": {
          "base_uri": "https://localhost:8080/"
        },
        "id": "Tvvrl8asF2Ox",
        "outputId": "5c98d9e3-c2f8-4b29-b444-09c66c2fa253"
      },
      "execution_count": 1,
      "outputs": [
        {
          "output_type": "stream",
          "name": "stdout",
          "text": [
            "Current balance: 0\n"
          ]
        }
      ]
    }
  ],
  "metadata": {
    "colab": {
      "name": "Welcome To Colaboratory",
      "toc_visible": true,
      "provenance": [],
      "include_colab_link": true
    },
    "kernelspec": {
      "display_name": "Python 3",
      "name": "python3"
    }
  },
  "nbformat": 4,
  "nbformat_minor": 0
}