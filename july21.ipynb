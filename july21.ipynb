{
  "cells": [
    {
      "cell_type": "markdown",
      "metadata": {
        "id": "view-in-github",
        "colab_type": "text"
      },
      "source": [
        "<a href=\"https://colab.research.google.com/github/Kupradze/class/blob/main/july21.ipynb\" target=\"_parent\"><img src=\"https://colab.research.google.com/assets/colab-badge.svg\" alt=\"Open In Colab\"/></a>"
      ]
    },
    {
      "cell_type": "code",
      "source": [
        " is a python set mutable or not?\n",
        " yes, the python set is mutable.\n",
        " can you change one element in the set?\n",
        " no, cause it doesnt involve changing the set.\n",
        " s={3,4,5}"
      ],
      "metadata": {
        "id": "5pqVwg2keoQw"
      },
      "execution_count": null,
      "outputs": []
    },
    {
      "cell_type": "code",
      "source": [
        "first, im gonna find the greatest common divisor of 3 and 4\n",
        "1. 4 is greater than 3, so i will not swap.\n",
        "2. 4 ÷ 3 = 1 dont forget the remainder (1)\n",
        "a=3. b=1\n",
        "3 ÷ 1 = 3\n",
        "there is no remainder so 0.\n",
        "non-zero value, b=1\n",
        "second, Find the greatest comon divisor of (3, 4) and 5.\n",
        "we already found out (3, 4) = 1\n",
        "again, 5 is greater than 1 , so i will not swap.\n",
        "5 ÷ 1 = 5 remainder (0)\n",
        "zero again, the greatest common divisor is the non-zero value of b, which is 1.\n",
        "SO, that means the greatest common divisor of the numbers {3, 4, 5} is 1."
      ],
      "metadata": {
        "id": "d4mgJHLng8hg"
      },
      "execution_count": null,
      "outputs": []
    }
  ],
  "metadata": {
    "colab": {
      "name": "Welcome To Colaboratory",
      "toc_visible": true,
      "provenance": [],
      "include_colab_link": true
    },
    "kernelspec": {
      "display_name": "Python 3",
      "name": "python3"
    }
  },
  "nbformat": 4,
  "nbformat_minor": 0
}