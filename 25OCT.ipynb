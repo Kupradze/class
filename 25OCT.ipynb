{
  "cells": [
    {
      "cell_type": "markdown",
      "metadata": {
        "id": "view-in-github",
        "colab_type": "text"
      },
      "source": [
        "<a href=\"https://colab.research.google.com/github/Kupradze/class/blob/main/25OCT.ipynb\" target=\"_parent\"><img src=\"https://colab.research.google.com/assets/colab-badge.svg\" alt=\"Open In Colab\"/></a>"
      ]
    },
    {
      "cell_type": "code",
      "source": [
        "from enum import Enum\n",
        "\n",
        "# Enum for drink types that you can get from the vending machine\n",
        "class DrinkType(Enum):\n",
        "    WATER = 1\n",
        "    SODA = 2\n",
        "    JUICE = 3\n",
        "    COFFEE = 4\n",
        "\n",
        "# Enum for drink size\n",
        "class DrinkSize(Enum):\n",
        "    SMALL = 1\n",
        "    MEDIUM = 2\n",
        "    LARGE = 3\n",
        "\n",
        "class VendingMachine:\n",
        "\n",
        "    def __init__(self):\n",
        "        self.balance = 0.0\n",
        "        self.stock = {}\n",
        "\n",
        "    # add money to your balance\n",
        "    def insert_money(self, amount):\n",
        "        self.balance += amount\n",
        "        print(f\"Balance updated. Current balance: ${self.balance:.2f}\")\n",
        "\n",
        "    # add a particular drink in stock\n",
        "    def add_stock(self, drink_type, quantity):\n",
        "        if drink_type in self.stock:\n",
        "            self.stock[drink_type] += quantity\n",
        "        else:\n",
        "            self.stock[drink_type] = quantity\n",
        "        print(f\"Added {quantity} units of {drink_type.name}. Current stock: {self.stock[drink_type]}\")\n",
        "\n",
        "    # check if they have the specific drink type you want\n",
        "    def check_stock(self, drink_type):\n",
        "        return self.stock.get(drink_type, 0)\n",
        "\n",
        "    # is the  balance sufficient for this item?\n",
        "    def has_sufficient_balance(self, price):\n",
        "        return self.balance >= price\n",
        "\n",
        "\n",
        "class DrinkVendingMachine(VendingMachine):\n",
        "\n",
        "    def __init__(self):\n",
        "        super().__init__()\n",
        "        self.drink_prices = {\n",
        "            (DrinkType.WATER, DrinkSize.SMALL): 1.00,\n",
        "            (DrinkType.WATER, DrinkSize.MEDIUM): 1.50,\n",
        "            (DrinkType.WATER, DrinkSize.LARGE): 2.00,\n",
        "            (DrinkType.SODA, DrinkSize.SMALL): 1.25,\n",
        "            (DrinkType.SODA, DrinkSize.MEDIUM): 1.75,\n",
        "            (DrinkType.SODA, DrinkSize.LARGE): 2.25,\n",
        "            # Add other drink types and sizes\n",
        "        }\n",
        "\n",
        "    #select and dispense a drink\n",
        "    def dispense_drink(self, drink_type, drink_size):\n",
        "        price = self.drink_prices.get((drink_type, drink_size), 0)\n",
        "\n",
        "        # Check stock and balance\n",
        "        if self.check_stock(drink_type) > 0 and self.has_sufficient_balance(price):\n",
        "            self.stock[drink_type] -= 1\n",
        "            self.balance -= price\n",
        "            print(f\"Dispensed {drink_size.name} {drink_type.name}. Remaining balance: ${self.balance:.2f}\")\n",
        "        elif self.check_stock(drink_type) == 0:\n",
        "            print(\"Sorry, this item is out of stock.\")\n",
        "        else:\n",
        "            print(\"Insufficient balance. Please insert more money.\")\n",
        "\n",
        "\n",
        "# Create a drink vending machine instanc\n",
        "machine = DrinkVendingMachine()\n",
        "\n",
        "# Add some money\n",
        "machine.insert_money(5.00)\n",
        "\n",
        "# i added drinks to the machine\n",
        "machine.add_stock(DrinkType.WATER, 10)\n",
        "machine.add_stock(DrinkType.SODA, 5)\n",
        "\n",
        "\n",
        "machine.dispense_drink(DrinkType.SODA, DrinkSize.MEDIUM)\n"
      ],
      "metadata": {
        "colab": {
          "base_uri": "https://localhost:8080/"
        },
        "id": "ykoLklOBD4oe",
        "outputId": "f6effd39-ebf6-4672-808d-0c9d4df982be"
      },
      "execution_count": 6,
      "outputs": [
        {
          "output_type": "stream",
          "name": "stdout",
          "text": [
            "Balance updated. Current balance: $5.00\n",
            "Added 10 units of WATER. Current stock: 10\n",
            "Added 5 units of SODA. Current stock: 5\n",
            "Dispensed MEDIUM SODA. Remaining balance: $3.25\n"
          ]
        }
      ]
    },
    {
      "cell_type": "code",
      "source": [
        "from enum import Enum\n",
        "\n",
        "# Enum for movie genres you can find and watch in the theater\n",
        "class Genre(Enum):\n",
        "    ACTION = 1\n",
        "    DRAMA = 2\n",
        "    COMEDY = 3\n",
        "    HORROR = 4\n",
        "    SCIFI = 5\n",
        "\n",
        "# Enum for seating types\n",
        "class SeatType(Enum):\n",
        "    REGULAR = 1\n",
        "    PREMIUM = 2\n",
        "    VIP = 3\n",
        "\n",
        "#Theater class\n",
        "class Theater:\n",
        "\n",
        "    def __init__(self):\n",
        "        self.balance = 0.0\n",
        "        self.seat_stock = {}\n",
        "\n",
        "    # add money to your balance\n",
        "    def add_balance(self, amount):\n",
        "        self.balance += amount\n",
        "        print(f\"Balance updated. Current balance: ${self.balance:.2f}\")\n",
        "\n",
        "    # add seats to a movie you want\n",
        "    def add_seats(self, movie, seat_type, quantity):\n",
        "        if movie not in self.seat_stock:\n",
        "            self.seat_stock[movie] = {}\n",
        "        if seat_type in self.seat_stock[movie]:\n",
        "            self.seat_stock[movie][seat_type] += quantity\n",
        "        else:\n",
        "            self.seat_stock[movie][seat_type] = quantity\n",
        "        print(f\"Added {quantity} {seat_type.name} seats for {movie}. Current stock: {self.seat_stock[movie][seat_type]}\")\n",
        "\n",
        "    # check if seats are available for a specific movie or type\n",
        "    def check_seat_stock(self, movie, seat_type):\n",
        "        return self.seat_stock.get(movie, {}).get(seat_type, 0)\n",
        "\n",
        "    # is the balance sufficient for the ticket?\n",
        "    def has_sufficient_balance(self, price):\n",
        "        return self.balance >= price\n",
        "\n",
        "# Derived MovieTheater class for specific movies and ticket pricing\n",
        "class MovieTheater(Theater):\n",
        "\n",
        "    def __init__(self):\n",
        "        super().__init__()\n",
        "        self.ticket_prices = {\n",
        "            (Genre.ACTION, SeatType.REGULAR): 10.00,\n",
        "            (Genre.ACTION, SeatType.PREMIUM): 15.00,\n",
        "            (Genre.ACTION, SeatType.VIP): 20.00,\n",
        "            (Genre.COMEDY, SeatType.REGULAR): 8.00,\n",
        "            (Genre.COMEDY, SeatType.PREMIUM): 12.00,\n",
        "            (Genre.COMEDY, SeatType.VIP): 18.00,\n",
        "            # Add other genres and seat types\n",
        "        }\n",
        "\n",
        "    #purchase a ticket for a specific movie and seat type\n",
        "    def purchase_ticket(self, genre, seat_type):\n",
        "        price = self.ticket_prices.get((genre, seat_type), 0)\n",
        "\n",
        "        # Check seat availability and balance\n",
        "        if self.check_seat_stock(genre, seat_type) > 0 and self.has_sufficient_balance(price):\n",
        "            self.seat_stock[genre][seat_type] -= 1\n",
        "            self.balance -= price\n",
        "            print(f\"Purchased {seat_type.name} ticket for {genre.name}. Remaining balance: ${self.balance:.2f}\")\n",
        "        elif self.check_seat_stock(genre, seat_type) == 0:\n",
        "            print(\"Sorry, no available seats in this category.\")\n",
        "        else:\n",
        "            print(\"Insufficient balance. Please add more funds.\")\n",
        "\n",
        "\n",
        "# Create a movie theater instance\n",
        "theater = MovieTheater()\n",
        "\n",
        "# Add some balance to purchase a ticket\n",
        "theater.add_balance(30.00)\n",
        "\n",
        "# Add seats to the theater for specific movies\n",
        "theater.add_seats(Genre.ACTION, SeatType.REGULAR, 20)\n",
        "theater.add_seats(Genre.COMEDY, SeatType.VIP, 5)\n",
        "\n",
        "# Try to purchase a VIP ticket for a comedy movie\n",
        "theater.purchase_ticket(Genre.COMEDY, SeatType.VIP)\n"
      ],
      "metadata": {
        "colab": {
          "base_uri": "https://localhost:8080/"
        },
        "id": "TG5gfw79EL5m",
        "outputId": "23c673cf-a29a-4c10-a68c-01f917870aa8"
      },
      "execution_count": 3,
      "outputs": [
        {
          "output_type": "stream",
          "name": "stdout",
          "text": [
            "Balance updated. Current balance: $30.00\n",
            "Added 20 REGULAR seats for Genre.ACTION. Current stock: 20\n",
            "Added 5 VIP seats for Genre.COMEDY. Current stock: 5\n",
            "Purchased VIP ticket for COMEDY. Remaining balance: $12.00\n"
          ]
        }
      ]
    },
    {
      "cell_type": "code",
      "source": [
        "\n",
        "theater = MovieTheater()\n",
        "\n",
        "theater.add_balance(30.00)  # Adds $30 to balance\n",
        "\n",
        "theater.add_seats(Genre.ACTION, SeatType.REGULAR, 20)  # Adds 20 regular seats for action movies\n",
        "theater.add_seats(Genre.ACTION, SeatType.PREMIUM, 10)  # Adds 10 premium seats for action movies\n",
        "theater.add_seats(Genre.COMEDY, SeatType.VIP, 5)       # Adds 5 VIP seats for comedy movies\n",
        "print(\"\\n--- Purchase Attempts ---\\n\")\n",
        "theater.purchase_ticket(Genre.ACTION, SeatType.REGULAR)  # Should succeed\n",
        "theater.purchase_ticket(Genre.COMEDY, SeatType.VIP)      # Should succeed\n",
        "theater.purchase_ticket(Genre.ACTION, SeatType.PREMIUM)  # Should fail if balance runs out\n",
        "\n",
        "print(\"\\n--- Final Balance and Stock ---\")\n",
        "print(f\"Remaining Balance: ${theater.balance:.2f}\")\n",
        "print(\"Remaining Seats:\")\n",
        "for movie, seats in theater.seat_stock.items():\n",
        "    for seat_type, quantity in seats.items():\n",
        "        print(f\"{movie.name} - {seat_type.name}: {quantity} seats\")\n"
      ],
      "metadata": {
        "colab": {
          "base_uri": "https://localhost:8080/"
        },
        "id": "9EUnkBlKFp1-",
        "outputId": "e3f0edff-f8be-4152-921b-4e62e17b35f2"
      },
      "execution_count": 4,
      "outputs": [
        {
          "output_type": "stream",
          "name": "stdout",
          "text": [
            "Balance updated. Current balance: $30.00\n",
            "Added 20 REGULAR seats for Genre.ACTION. Current stock: 20\n",
            "Added 10 PREMIUM seats for Genre.ACTION. Current stock: 10\n",
            "Added 5 VIP seats for Genre.COMEDY. Current stock: 5\n",
            "\n",
            "--- Purchase Attempts ---\n",
            "\n",
            "Purchased REGULAR ticket for ACTION. Remaining balance: $20.00\n",
            "Purchased VIP ticket for COMEDY. Remaining balance: $2.00\n",
            "Insufficient balance. Please add more funds.\n",
            "\n",
            "--- Final Balance and Stock ---\n",
            "Remaining Balance: $2.00\n",
            "Remaining Seats:\n",
            "ACTION - REGULAR: 19 seats\n",
            "ACTION - PREMIUM: 10 seats\n",
            "COMEDY - VIP: 4 seats\n"
          ]
        }
      ]
    },
    {
      "cell_type": "code",
      "source": [
        "machine = DrinkVendingMachine()\n",
        "\n",
        "machine.insert_money(5.00)\n",
        "\n",
        "machine.add_stock(DrinkType.WATER, 10)\n",
        "machine.add_stock(DrinkType.SODA, 5)\n",
        "machine.add_stock(DrinkType.JUICE, 2)\n",
        "\n",
        "print(\"\\n--- Dispense Attempts ---\\n\")\n",
        "machine.dispense_drink(DrinkType.SODA, DrinkSize.MEDIUM)\n",
        "machine.dispense_drink(DrinkType.WATER, DrinkSize.LARGE)\n",
        "machine.dispense_drink(DrinkType.JUICE, DrinkSize.SMALL)\n",
        "machine.dispense_drink(DrinkType.COFFEE, DrinkSize.SMALL)\n",
        "machine.dispense_drink(DrinkType.WATER, DrinkSize.LARGE)\n",
        "\n",
        "print(\"\\n--- Final Balance and Stock ---\")\n",
        "print(f\"Remaining Balance: ${machine.balance:.2f}\")\n",
        "print(\"Remaining Stock:\")\n",
        "for drink, quantity in machine.stock.items():\n",
        "    print(f\"{drink.name}: {quantity} units\")\n"
      ],
      "metadata": {
        "colab": {
          "base_uri": "https://localhost:8080/"
        },
        "id": "JikizZkvF0Pl",
        "outputId": "4643631e-9b82-4258-f893-dadc2874097a"
      },
      "execution_count": 5,
      "outputs": [
        {
          "output_type": "stream",
          "name": "stdout",
          "text": [
            "Balance updated. Current balance: $5.00\n",
            "Added 10 units of WATER. Current stock: 10\n",
            "Added 5 units of SODA. Current stock: 5\n",
            "Added 2 units of JUICE. Current stock: 2\n",
            "\n",
            "--- Dispense Attempts ---\n",
            "\n",
            "Dispensed MEDIUM SODA. Remaining balance: $3.25\n",
            "Dispensed LARGE WATER. Remaining balance: $1.25\n",
            "Dispensed SMALL JUICE. Remaining balance: $1.25\n",
            "Sorry, this item is out of stock.\n",
            "Insufficient balance. Please insert more money.\n",
            "\n",
            "--- Final Balance and Stock ---\n",
            "Remaining Balance: $1.25\n",
            "Remaining Stock:\n",
            "WATER: 9 units\n",
            "SODA: 4 units\n",
            "JUICE: 1 units\n"
          ]
        }
      ]
    }
  ],
  "metadata": {
    "colab": {
      "name": "Welcome To Colab",
      "toc_visible": true,
      "provenance": [],
      "include_colab_link": true
    },
    "kernelspec": {
      "display_name": "Python 3",
      "name": "python3"
    }
  },
  "nbformat": 4,
  "nbformat_minor": 0
}