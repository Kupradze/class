{
  "cells": [
    {
      "cell_type": "markdown",
      "metadata": {
        "id": "view-in-github",
        "colab_type": "text"
      },
      "source": [
        "<a href=\"https://colab.research.google.com/github/Kupradze/class/blob/main/29may.ipynb\" target=\"_parent\"><img src=\"https://colab.research.google.com/assets/colab-badge.svg\" alt=\"Open In Colab\"/></a>"
      ]
    },
    {
      "cell_type": "code",
      "source": [
        "import random\n",
        "\n",
        "odd = []\n",
        "even = []\n",
        "numbers = []\n",
        "\n",
        "for i in range(10):\n",
        "    numbers.append(random.randint(1, 10))\n",
        "\n",
        "for number in numbers:\n",
        "    if number % 2 == 0:\n",
        "        even.append(number)\n",
        "    else:\n",
        "        odd.append(number)\n",
        "\n",
        "print(\"Odd numbers:\", odd)\n",
        "print(\"Even numbers:\", even)\n",
        "print(\"All numbers:\", numbers)"
      ],
      "metadata": {
        "id": "UYEYV7wdW8_w",
        "outputId": "196931ba-c41a-421c-8526-06e6f3c5c43f",
        "colab": {
          "base_uri": "https://localhost:8080/"
        }
      },
      "execution_count": 1,
      "outputs": [
        {
          "output_type": "stream",
          "name": "stdout",
          "text": [
            "Odd numbers: [9, 9, 5, 1, 9, 3, 3]\n",
            "Even numbers: [10, 10, 2]\n",
            "All numbers: [9, 10, 9, 5, 10, 1, 9, 2, 3, 3]\n"
          ]
        }
      ]
    }
  ],
  "metadata": {
    "colab": {
      "name": "Welcome To Colaboratory",
      "toc_visible": true,
      "provenance": [],
      "include_colab_link": true
    },
    "kernelspec": {
      "display_name": "Python 3",
      "name": "python3"
    }
  },
  "nbformat": 4,
  "nbformat_minor": 0
}