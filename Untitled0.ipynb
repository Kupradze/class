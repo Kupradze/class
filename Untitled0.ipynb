{
  "nbformat": 4,
  "nbformat_minor": 0,
  "metadata": {
    "colab": {
      "provenance": [],
      "authorship_tag": "ABX9TyMvKRBeGxgEVKn3ZVRsT8Jr",
      "include_colab_link": true
    },
    "kernelspec": {
      "name": "python3",
      "display_name": "Python 3"
    },
    "language_info": {
      "name": "python"
    }
  },
  "cells": [
    {
      "cell_type": "markdown",
      "metadata": {
        "id": "view-in-github",
        "colab_type": "text"
      },
      "source": [
        "<a href=\"https://colab.research.google.com/github/Kupradze/class/blob/main/Untitled0.ipynb\" target=\"_parent\"><img src=\"https://colab.research.google.com/assets/colab-badge.svg\" alt=\"Open In Colab\"/></a>"
      ]
    },
    {
      "cell_type": "code",
      "execution_count": 5,
      "metadata": {
        "colab": {
          "base_uri": "https://localhost:8080/"
        },
        "id": "Ig7Mk9Jv9k4T",
        "outputId": "54290097-dabd-4e8a-81a0-da1aaad50ac0"
      },
      "outputs": [
        {
          "output_type": "stream",
          "name": "stdout",
          "text": [
            "STATUS\n",
            "TYPE\n",
            "MESSAGE\n",
            "UPGRADE\n"
          ]
        }
      ],
      "source": [
        "import requests\n",
        "\n",
        "def print_upper(data):\n",
        "    for key, value in data.items():\n",
        "        print(key.upper())\n",
        "        if isinstance(value, list):\n",
        "            for item in value:\n",
        "                print(f\"- {item.upper()}\")\n",
        "        elif isinstance(value, dict):\n",
        "            print_upper(value)\n",
        "\n",
        "response = requests.get(\"https://api.jikan.moe/v3/search/anime?q=naruto\")\n",
        "data = response.json()\n",
        "\n",
        "print_upper(data)"
      ]
    }
  ]
}