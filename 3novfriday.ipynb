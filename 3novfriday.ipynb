{
  "cells": [
    {
      "cell_type": "markdown",
      "metadata": {
        "id": "view-in-github",
        "colab_type": "text"
      },
      "source": [
        "<a href=\"https://colab.research.google.com/github/Kupradze/class/blob/main/3novfriday.ipynb\" target=\"_parent\"><img src=\"https://colab.research.google.com/assets/colab-badge.svg\" alt=\"Open In Colab\"/></a>"
      ]
    },
    {
      "cell_type": "code",
      "source": [
        "d = {'studentNumber': 2763,\n",
        " 'name': 'Lika',\n",
        " 'city': 'Rustavi',\n",
        " 'gpa': 45.31,\n",
        " 'isUkrainian': False,\n",
        " 'birthday': '6/11/2007'}\n",
        "print(d)\n",
        "\n"
      ],
      "metadata": {
        "id": "sJd_2NQSrlXw",
        "outputId": "1dea0354-9569-4c77-c866-56951d76ffba",
        "colab": {
          "base_uri": "https://localhost:8080/"
        }
      },
      "execution_count": 1,
      "outputs": [
        {
          "output_type": "stream",
          "name": "stdout",
          "text": [
            "{'studentNumber': 2763, 'name': 'Lika', 'city': 'Rustavi', 'gpa': 45.31, 'isUkrainian': False, 'birthday': '6/11/2007'}\n"
          ]
        }
      ]
    },
    {
      "cell_type": "code",
      "source": [
        "# what type of object is data\n",
        "\n",
        "data is an object, region of storage that contains a value or group of values. a data object could represent a 'customer', a 'patient', a 'project', etc. with for example a name, address and/or other relevant information."
      ],
      "metadata": {
        "id": "Li34TWHcsDcA"
      },
      "execution_count": 2,
      "outputs": []
    },
    {
      "cell_type": "code",
      "source": [
        "# split()\n",
        "to divide a string into multiple substrings based on a specified delimiter. . The result is typically an array or list of substrings, making it easier to process and manipulate text data."
      ],
      "metadata": {
        "id": "4hUXugWusaen"
      },
      "execution_count": null,
      "outputs": []
    },
    {
      "cell_type": "code",
      "source": [
        "# zip()\n",
        "he zip() function returns a zip object, which is an iterator of tuples where the first item in each passed iterator is paired together, and then the second item in each passed iterator are paired together etc."
      ],
      "metadata": {
        "id": "0YWMIWBItXgg"
      },
      "execution_count": null,
      "outputs": []
    },
    {
      "cell_type": "code",
      "source": [
        "The dict() function creates a dictionary.\n",
        "A dictionary is a collection which is unordered, changeable and indexed. Read more about dictionaries in the chapter: Python Dictionaries."
      ],
      "metadata": {
        "id": "mkaa4GZZtqOf"
      },
      "execution_count": null,
      "outputs": []
    },
    {
      "cell_type": "code",
      "source": [
        "for i in range(1,len(data)):\n",
        "  elements=data[i].split(\",\")\n",
        "  sz=dict(zip(columnHeadings,elements))\n",
        "  print(sz)"
      ],
      "metadata": {
        "id": "8QhtMjylt5nn",
        "outputId": "119132e0-b7ad-4a12-f82a-d9e2979e6886",
        "colab": {
          "base_uri": "https://localhost:8080/",
          "height": 228
        }
      },
      "execution_count": 6,
      "outputs": [
        {
          "output_type": "error",
          "ename": "NameError",
          "evalue": "ignored",
          "traceback": [
            "\u001b[0;31m---------------------------------------------------------------------------\u001b[0m",
            "\u001b[0;31mNameError\u001b[0m                                 Traceback (most recent call last)",
            "\u001b[0;32m<ipython-input-6-e059a14e30a5>\u001b[0m in \u001b[0;36m<cell line: 1>\u001b[0;34m()\u001b[0m\n\u001b[0;32m----> 1\u001b[0;31m \u001b[0;32mfor\u001b[0m \u001b[0mi\u001b[0m \u001b[0;32min\u001b[0m \u001b[0mrange\u001b[0m\u001b[0;34m(\u001b[0m\u001b[0;36m1\u001b[0m\u001b[0;34m,\u001b[0m\u001b[0mlen\u001b[0m\u001b[0;34m(\u001b[0m\u001b[0mdata\u001b[0m\u001b[0;34m)\u001b[0m\u001b[0;34m)\u001b[0m\u001b[0;34m:\u001b[0m\u001b[0;34m\u001b[0m\u001b[0;34m\u001b[0m\u001b[0m\n\u001b[0m\u001b[1;32m      2\u001b[0m   \u001b[0melements\u001b[0m\u001b[0;34m=\u001b[0m\u001b[0mdata\u001b[0m\u001b[0;34m[\u001b[0m\u001b[0mi\u001b[0m\u001b[0;34m]\u001b[0m\u001b[0;34m.\u001b[0m\u001b[0msplit\u001b[0m\u001b[0;34m(\u001b[0m\u001b[0;34m\",\"\u001b[0m\u001b[0;34m)\u001b[0m\u001b[0;34m\u001b[0m\u001b[0;34m\u001b[0m\u001b[0m\n\u001b[1;32m      3\u001b[0m   \u001b[0msz\u001b[0m\u001b[0;34m=\u001b[0m\u001b[0mdict\u001b[0m\u001b[0;34m(\u001b[0m\u001b[0mzip\u001b[0m\u001b[0;34m(\u001b[0m\u001b[0mcolumnHeadings\u001b[0m\u001b[0;34m,\u001b[0m\u001b[0melements\u001b[0m\u001b[0;34m)\u001b[0m\u001b[0;34m)\u001b[0m\u001b[0;34m\u001b[0m\u001b[0;34m\u001b[0m\u001b[0m\n\u001b[1;32m      4\u001b[0m   \u001b[0mprint\u001b[0m\u001b[0;34m(\u001b[0m\u001b[0msz\u001b[0m\u001b[0;34m)\u001b[0m\u001b[0;34m\u001b[0m\u001b[0;34m\u001b[0m\u001b[0m\n",
            "\u001b[0;31mNameError\u001b[0m: name 'data' is not defined"
          ]
        }
      ]
    },
    {
      "cell_type": "code",
      "source": [
        "data = [\n",
        "    \"Lika,Kupradze,16,Georgia\",\n",
        "    \"Walker,Rowe,38,Cyprus\",\n",
        "    \"Luka,Smith,30,New York\",\n",
        "]"
      ],
      "metadata": {
        "id": "zMbmLzaHuLWX"
      },
      "execution_count": 7,
      "outputs": []
    },
    {
      "cell_type": "code",
      "source": [
        "columnHeadings = [\"Lika\", \"Kupradze\", \"16\", \"Rustavi\"]"
      ],
      "metadata": {
        "id": "9MCSMZ6xuw0H"
      },
      "execution_count": 8,
      "outputs": []
    },
    {
      "cell_type": "code",
      "source": [
        "record_dicts = []\n",
        "for record in data:\n",
        "    record_dict = {\n",
        "        '1': record[0],\n",
        "        'Lika': record[1],\n",
        "        '16': record[2]\n",
        "    }\n",
        "    record_dicts.append(record_dict)"
      ],
      "metadata": {
        "id": "Vc9GUIYbu-OP"
      },
      "execution_count": 9,
      "outputs": []
    },
    {
      "cell_type": "code",
      "source": [
        "record_dicts = []\n",
        "for record in data:\n",
        "    record_dict = {\n",
        "        '2': record[0],\n",
        "        'Walker': record[1],\n",
        "        '38': record[2]\n",
        "    }\n",
        "    record_dicts.append(record_dict)"
      ],
      "metadata": {
        "id": "RIy_G-J0vWQ2"
      },
      "execution_count": 10,
      "outputs": []
    },
    {
      "cell_type": "code",
      "source": [
        "record_dicts = []\n",
        "for record in data:\n",
        "    record_dict = {\n",
        "        '3': record[0],\n",
        "        'Luka': record[1],\n",
        "        '30': record[2]\n",
        "    }\n",
        "    record_dicts.append(record_dict)"
      ],
      "metadata": {
        "id": "WBfWQCvEvbGm"
      },
      "execution_count": 11,
      "outputs": []
    },
    {
      "cell_type": "code",
      "source": [
        "[\n",
        "    {'ID': 1, 'Name': 'Lika', 'Age': 16},\n",
        "    {'ID': 2, 'Name': 'Walker', 'Age': 38},\n",
        "    {'ID': 3, 'Name': 'Luka', 'Age': 30},\n",
        "]"
      ],
      "metadata": {
        "id": "U2hAxh45vjn_",
        "outputId": "b2e5a73f-c122-4f08-c3fd-b3ae05d8c25e",
        "colab": {
          "base_uri": "https://localhost:8080/"
        }
      },
      "execution_count": 16,
      "outputs": [
        {
          "output_type": "execute_result",
          "data": {
            "text/plain": [
              "[{'ID': 1, 'Name': 'Lika', 'Age': 16},\n",
              " {'ID': 2, 'Name': 'Walker', 'Age': 38},\n",
              " {'ID': 3, 'Name': 'Luka', 'Age': 30}]"
            ]
          },
          "metadata": {},
          "execution_count": 16
        }
      ]
    },
    {
      "cell_type": "code",
      "source": [
        "{'Name': 'Lika', 'Age': 16, 'Country': 'Georgia'}"
      ],
      "metadata": {
        "id": "BN5PVcdrv2tv",
        "outputId": "86fbabe5-9545-46b0-8e98-91932c5ecf44",
        "colab": {
          "base_uri": "https://localhost:8080/"
        }
      },
      "execution_count": 13,
      "outputs": [
        {
          "output_type": "execute_result",
          "data": {
            "text/plain": [
              "{'Name': 'Lika', 'Age': 16, 'Country': 'Georgia'}"
            ]
          },
          "metadata": {},
          "execution_count": 13
        }
      ]
    },
    {
      "cell_type": "code",
      "source": [
        "for record in record_dicts:\n",
        "    print(record)"
      ],
      "metadata": {
        "id": "Ni7E3zbkwJY_",
        "outputId": "bec10ed0-74d6-4b8d-d3a4-46ee17f3b07d",
        "colab": {
          "base_uri": "https://localhost:8080/"
        }
      },
      "execution_count": 17,
      "outputs": [
        {
          "output_type": "stream",
          "name": "stdout",
          "text": [
            "{'3': 'L', 'Luka': 'i', '30': 'k'}\n",
            "{'3': 'W', 'Luka': 'a', '30': 'l'}\n",
            "{'3': 'L', 'Luka': 'u', '30': 'k'}\n"
          ]
        }
      ]
    },
    {
      "cell_type": "code",
      "source": [],
      "metadata": {
        "id": "CaH87AyEwrxv",
        "outputId": "a28bd177-8558-407d-c962-d3b521f2561f",
        "colab": {
          "base_uri": "https://localhost:8080/",
          "height": 176
        }
      },
      "execution_count": 18,
      "outputs": [
        {
          "output_type": "error",
          "ename": "NameError",
          "evalue": "ignored",
          "traceback": [
            "\u001b[0;31m---------------------------------------------------------------------------\u001b[0m",
            "\u001b[0;31mNameError\u001b[0m                                 Traceback (most recent call last)",
            "\u001b[0;32m<ipython-input-18-09e991838061>\u001b[0m in \u001b[0;36m<cell line: 1>\u001b[0;34m()\u001b[0m\n\u001b[0;32m----> 1\u001b[0;31m \u001b[0mprint\u001b[0m\u001b[0;34m(\u001b[0m\u001b[0msz\u001b[0m\u001b[0;34m)\u001b[0m\u001b[0;34m\u001b[0m\u001b[0;34m\u001b[0m\u001b[0m\n\u001b[0m",
            "\u001b[0;31mNameError\u001b[0m: name 'sz' is not defined"
          ]
        }
      ]
    }
  ],
  "metadata": {
    "colab": {
      "name": "Welcome To Colaboratory",
      "toc_visible": true,
      "provenance": [],
      "include_colab_link": true
    },
    "kernelspec": {
      "display_name": "Python 3",
      "name": "python3"
    }
  },
  "nbformat": 4,
  "nbformat_minor": 0
}