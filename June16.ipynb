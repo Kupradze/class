{
  "cells": [
    {
      "cell_type": "markdown",
      "metadata": {
        "id": "view-in-github",
        "colab_type": "text"
      },
      "source": [
        "<a href=\"https://colab.research.google.com/github/Kupradze/class/blob/main/June16.ipynb\" target=\"_parent\"><img src=\"https://colab.research.google.com/assets/colab-badge.svg\" alt=\"Open In Colab\"/></a>"
      ]
    },
    {
      "cell_type": "code",
      "source": [
        "class BankAcc:\n",
        "  longitude=0\n",
        "  latitude=0\n",
        "\n",
        "  def __init__(self, AccountNumber, Balance, OwnersName):\n",
        "   self.AccountNumber = AccountNumber\n",
        "   self.Balance = Balance\n",
        "   self.OwnersName = OwnersName\n",
        "bankApp=BankAcc(\"135673\", \"1200$\", \"Lika\")"
      ],
      "metadata": {
        "id": "j-HpjgyDWUUu"
      },
      "execution_count": 1,
      "outputs": []
    },
    {
      "cell_type": "code",
      "source": [
        "print(\"The balance on your account is\", bankApp.Balance)"
      ],
      "metadata": {
        "id": "etJrts__WjxM",
        "outputId": "338aa31d-ddf8-4f60-883a-91d35d55e6b3",
        "colab": {
          "base_uri": "https://localhost:8080/"
        }
      },
      "execution_count": 2,
      "outputs": [
        {
          "output_type": "stream",
          "name": "stdout",
          "text": [
            "The balance on your account is 1200$\n"
          ]
        }
      ]
    },
    {
      "cell_type": "code",
      "source": [
        "print(\"The name on your card says\", bankApp.OwnersName)"
      ],
      "metadata": {
        "id": "zqqnMHxaWuBl",
        "outputId": "8e39a3f2-db13-4f47-91d6-123eaaa49a99",
        "colab": {
          "base_uri": "https://localhost:8080/"
        }
      },
      "execution_count": 3,
      "outputs": [
        {
          "output_type": "stream",
          "name": "stdout",
          "text": [
            "The name on your card says Lika\n"
          ]
        }
      ]
    },
    {
      "cell_type": "code",
      "source": [
        "print(\"account code is\",bankApp.AccountNumber)"
      ],
      "metadata": {
        "id": "83apqVlsWw01",
        "outputId": "b591723d-3af9-490a-9d08-edc221e360dc",
        "colab": {
          "base_uri": "https://localhost:8080/"
        }
      },
      "execution_count": 4,
      "outputs": [
        {
          "output_type": "stream",
          "name": "stdout",
          "text": [
            "account code is 135673\n"
          ]
        }
      ]
    }
  ],
  "metadata": {
    "colab": {
      "name": "Welcome To Colaboratory",
      "toc_visible": true,
      "provenance": [],
      "include_colab_link": true
    },
    "kernelspec": {
      "display_name": "Python 3",
      "name": "python3"
    }
  },
  "nbformat": 4,
  "nbformat_minor": 0
}